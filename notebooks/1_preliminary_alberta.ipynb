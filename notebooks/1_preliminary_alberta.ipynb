{
 "cells": [
  {
   "cell_type": "code",
   "execution_count": null,
   "metadata": {},
   "outputs": [],
   "source": [
    "%load_ext autoreload\n",
    "%autoreload 2"
   ]
  },
  {
   "cell_type": "code",
   "execution_count": null,
   "metadata": {},
   "outputs": [],
   "source": [
    "from ust_wildfire.temperature import average_yearly_temp, average_monthly_temp\n",
    "from ust_wildfire.wildfire_stat import filter_lifetime\n",
    "\n",
    "import matplotlib.pyplot as plt\n",
    "import numpy as np\n",
    "import pandas as pd\n",
    "\n",
    "\n",
    "plt.rcParams.update({\n",
    "    \"figure.dpi\": 100,\n",
    "    \"text.usetex\": True,\n",
    "    \"font.family\": \"serif\",\n",
    "    \"font.serif\": [\"Palatino\"]})\n",
    "plt.rc(\"text.latex\", preamble=r\"\\usepackage{newpxmath}\")"
   ]
  },
  {
   "cell_type": "code",
   "execution_count": null,
   "metadata": {},
   "outputs": [],
   "source": [
    "# Load the data\n",
    "df_fire = pd.read_csv(f\"../data/alberta.csv\")\n",
    "df_ystat = pd.read_csv(f\"../data/results/alberta_yearly_stat.csv\")\n",
    "df_mstat = pd.read_csv(f\"../data/resuluts/alberta_monthly_stat.csv\")\n",
    "df_temp = pd.read_csv(f\"../data/alberta_monthly_temp.csv\")\n",
    "\n",
    "# Get the data in the time range of interest\n",
    "years = np.arange(1961, 2019)\n",
    "temp = average_yearly_temp(df_temp, years)\n",
    "temp_m = average_monthly_temp(df_temp)\n",
    "df_ystat = df_ystat[(df_ystat[\"year\"].isin(years))]\n",
    "\n",
    "\n",
    "# Exclude events with undefined end-time and outliers that has >1 lifetime\n",
    "df_fire = df_fire.dropna(subset=[\"end_time\"])\n",
    "df_fire = filter_lifetime(df_fire, 365)"
   ]
  },
  {
   "cell_type": "code",
   "execution_count": null,
   "metadata": {},
   "outputs": [],
   "source": [
    "fig, ax = plt.subplots()\n",
    "\n",
    "ax.plot(df_ystat[\"year\"], df_ystat[\"count\"], color=\"black\", marker=\"o\",\n",
    "        label=\"Wildfire Count\", ms=4, lw=1, alpha=0.7, linestyle=(0, (1, 0.5)))\n",
    "\n",
    "ax.set_title(\"Alberta\", fontsize=25)\n",
    "\n",
    "ax.set_xlabel(\"Year\", fontsize=20)\n",
    "ax.set_ylabel(\"Wildfires Count\", fontsize=18)\n",
    "ax.set_xlim(1955, 2025)\n",
    "\n",
    "ax.tick_params(which=\"both\", direction=\"in\", labelsize=13)\n",
    "ax.tick_params(which=\"major\", length=6)\n",
    "ax.tick_params(which=\"minor\", length=4)\n",
    "\n",
    "# Make the legend\n",
    "ax.plot([], [], color=\"orangered\", alpha=0.8, lw=1.2, label=\"Temperature\")\n",
    "ax.legend(loc=\"lower right\", frameon=False, fontsize=10)\n",
    "\n",
    "\n",
    "# Add the temperature curve\n",
    "axt = ax.twinx()\n",
    "axt.plot(years, temp, color=\"orangered\", alpha=0.9, lw=1.2)\n",
    "axt.set_ylabel(r\"Average Temperature ($^\\circ C$)\", color=\"orangered\",\n",
    "                fontsize=18, rotation=270, labelpad=20)\n",
    "axt.tick_params(axis=\"y\", labelcolor=\"orangered\", labelsize=13,\n",
    "                direction=\"in\")\n",
    "axt.set_ylim(-1.5, 4)\n",
    "\n",
    "plt.show()"
   ]
  },
  {
   "cell_type": "code",
   "execution_count": null,
   "metadata": {},
   "outputs": [],
   "source": [
    "fig, ax = plt.subplots()\n",
    "\n",
    "ax.plot(df_ystat[\"year\"], df_ystat[\"avg_size\"], color=\"black\", marker=\"o\",\n",
    "            label=\"Wildfire Size\", ms=4, lw=1, alpha=0.7, linestyle=(0, (1, 0.5)))\n",
    "\n",
    "\n",
    "ax.set_title(\"Alberta\", fontsize=25)\n",
    "\n",
    "ax.set_xlabel(\"Year\", fontsize=20)\n",
    "ax.set_ylabel(\"Average Burned Area (ha)\", fontsize=18)\n",
    "ax.set_xlim(1980, 2022)\n",
    "ax.set_yscale(\"log\")\n",
    "\n",
    "ax.tick_params(which=\"both\", direction=\"in\", labelsize=13)\n",
    "ax.tick_params(which=\"major\", length=6)\n",
    "ax.tick_params(which=\"minor\", length=4)\n",
    "\n",
    "# Make the legend\n",
    "ax.plot([], [], color=\"orangered\", alpha=0.9, lw=1.2, label=\"Temperature\")\n",
    "ax.legend(loc=\"lower right\", frameon=False, fontsize=10)\n",
    "\n",
    "\n",
    "# Add the temperature curve\n",
    "axt = ax.twinx()\n",
    "axt.plot(years, temp, color=\"orangered\", alpha=0.8, lw=1.2)\n",
    "axt.set_ylabel(r\"Average Temperature ($^\\circ C$)\", color=\"orangered\",\n",
    "                fontsize=18, rotation=270, labelpad=20)\n",
    "axt.tick_params(axis=\"y\", labelcolor=\"orangered\", labelsize=13,\n",
    "                direction=\"in\")\n",
    "axt.set_ylim(-1.5, 4)\n",
    "\n",
    "plt.show()"
   ]
  },
  {
   "cell_type": "code",
   "execution_count": null,
   "metadata": {},
   "outputs": [],
   "source": [
    "fig, ax = plt.subplots()\n",
    "ax.bar(df_mstat[\"month\"], df_mstat[\"count\"], color=\"black\")\n",
    "\n",
    "ax.set_title(\"Alberta\")\n",
    "ax.set_xlabel(\"Months\")\n",
    "ax.set_ylabel(\"Number of Wildfires\")\n",
    "ax.set_xlim(0, 13)\n",
    "\n",
    "axt = ax.twinx()\n",
    "axt.plot(np.arange(1, 13), temp, color=\"red\")\n",
    "axt.set_ylabel(r\"Temperature ($^\\circ C$)\", color=\"red\")\n",
    "axt.tick_params(axis=\"y\", labelcolor=\"red\")\n",
    "\n",
    "\n",
    "plt.show()"
   ]
  },
  {
   "cell_type": "code",
   "execution_count": null,
   "metadata": {},
   "outputs": [],
   "source": [
    "temp_var = {\"temp_st\": {\"name\": r\"$\\bar{T}_0$\", \"color\": \"red\"},\n",
    "            \"temp_1d\": {\"name\": r\"$\\bar{T}_{1}$\", \"color\": \"darkorange\"},\n",
    "            \"temp_10d\": {\"name\": r\"$\\bar{T}_{10}$\", \"color\": \"darkviolet\"},\n",
    "            \"temp_lt\": {\"name\": r\"$\\bar{T}_{\\infty}$\", \"color\": \"blue\"}\n",
    "}\n",
    "\n",
    "bins = np.arange(-20, 50, 1)\n",
    "centers = (bins[1:] + bins[:-1]) / 2\n",
    "\n",
    "for v in temp_var:\n",
    "    hist, _ = np.histogram(df_fire[v].to_numpy(), bins=bins, density=True)\n",
    "    ax.plot(centers, hist, label=temp_var[v][\"name\"], \n",
    "            color=temp_var[v][\"color\"])\n",
    "\n",
    "ax.set_ylabel(\"Empirical Density\", fontsize=20)\n",
    "ax.set_xlabel(\"Temperature ($^{\\circ}$C)\", fontsize=20)\n",
    "ax.legend(loc=\"upper right\", frameon=False, fontsize=16)\n",
    "ax.set_title(\"Alberta\", fontsize=25)\n",
    "\n",
    "plt.show()"
   ]
  },
  {
   "cell_type": "code",
   "execution_count": null,
   "metadata": {},
   "outputs": [],
   "source": [
    "bins = np.arange(-20, 1, 1)\n",
    "centers = (bins[1:] + bins[:-1]) / 2\n",
    "\n",
    "ax.hist(df_fire[v].to_numpy(), bins=bins, density=False,\n",
    "        color=\"royalblue\", edgecolor=\"white\")\n",
    "\n",
    "ax.set_ylabel(\"Historgram\", fontsize=14)\n",
    "ax.set_xlabel(\"Temperature (degree C)\", fontsize=14)\n",
    "ax.set_xticks(np.arange(-20, 1, 2))\n",
    "\n",
    "plt.show()"
   ]
  }
 ],
 "metadata": {
  "kernelspec": {
   "display_name": "Python 3.9.5 64-bit",
   "language": "python",
   "name": "python3"
  },
  "language_info": {
   "name": "python",
   "version": "3.9.5"
  },
  "orig_nbformat": 4,
  "vscode": {
   "interpreter": {
    "hash": "916dbcbb3f70747c44a77c7bcd40155683ae19c65e1c03b4aa3499c5328201f1"
   }
  }
 },
 "nbformat": 4,
 "nbformat_minor": 2
}
